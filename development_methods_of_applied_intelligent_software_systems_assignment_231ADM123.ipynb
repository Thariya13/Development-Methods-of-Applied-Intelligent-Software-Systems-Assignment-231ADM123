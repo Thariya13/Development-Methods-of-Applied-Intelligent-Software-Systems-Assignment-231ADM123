{
  "nbformat": 4,
  "nbformat_minor": 0,
  "metadata": {
    "colab": {
      "provenance": []
    },
    "kernelspec": {
      "name": "python3",
      "display_name": "Python 3"
    },
    "language_info": {
      "name": "python"
    }
  },
  "cells": [
    {
      "cell_type": "code",
      "execution_count": 9,
      "metadata": {
        "id": "tAxPWrqJxd1m"
      },
      "outputs": [],
      "source": [
        "import csv\n",
        "import sys\n",
        "\n",
        "from sklearn.model_selection import train_test_split\n",
        "from sklearn.neighbors import KNeighborsClassifier"
      ]
    },
    {
      "cell_type": "code",
      "source": [
        "TEST_SIZE = 0.4"
      ],
      "metadata": {
        "id": "v0JK2sLCxuxm"
      },
      "execution_count": 10,
      "outputs": []
    },
    {
      "cell_type": "code",
      "source": [
        "def main():\n",
        "\n",
        "    # Check command-line arguments\n",
        "    # if len(sys.argv) != 2:\n",
        "    #     sys.exit(\"Usage: python shopping.py data\")\n",
        "\n",
        "    # Load data from spreadsheet and split into train and test sets\n",
        "    # evidence, labels = load_data(sys.argv[1])\n",
        "    evidence, labels = load_data(\"shopping.csv\")\n",
        "    X_train, X_test, y_train, y_test = train_test_split(\n",
        "        evidence, labels, test_size=TEST_SIZE\n",
        "    )\n",
        "\n",
        "    # Train model and make predictions\n",
        "    model = train_model(X_train, y_train)\n",
        "    predictions = model.predict(X_test)\n",
        "    sensitivity, specificity = evaluate(y_test, predictions)\n",
        "\n",
        "    # Print results\n",
        "    print(f\"Correct: {(y_test == predictions).sum()}\")\n",
        "    print(f\"Incorrect: {(y_test != predictions).sum()}\")\n",
        "    print(f\"True Positive Rate: {100 * sensitivity:.2f}%\")\n",
        "    print(f\"True Negative Rate: {100 * specificity:.2f}%\")"
      ],
      "metadata": {
        "id": "WSuDNP0Txuzo"
      },
      "execution_count": 19,
      "outputs": []
    },
    {
      "cell_type": "code",
      "source": [
        "def load_data(filename):\n",
        "    \"\"\"\n",
        "    Load shopping data from a CSV file `filename` and convert into a list of\n",
        "    evidence lists and a list of labels. Return a tuple (evidence, labels).\n",
        "\n",
        "    evidence should be a list of lists, where each list contains the\n",
        "    following values, in order:\n",
        "        - Administrative, an integer\n",
        "        - Administrative_Duration, a floating point number\n",
        "        - Informational, an integer\n",
        "        - Informational_Duration, a floating point number\n",
        "        - ProductRelated, an integer\n",
        "        - ProductRelated_Duration, a floating point number\n",
        "        - BounceRates, a floating point number\n",
        "        - ExitRates, a floating point number\n",
        "        - PageValues, a floating point number\n",
        "        - SpecialDay, a floating point number\n",
        "        - Month, an index from 0 (January) to 11 (December)\n",
        "        - OperatingSystems, an integer\n",
        "        - Browser, an integer\n",
        "        - Region, an integer\n",
        "        - TrafficType, an integer\n",
        "        - VisitorType, an integer 0 (not returning) or 1 (returning)\n",
        "        - Weekend, an integer 0 (if false) or 1 (if true)\n",
        "\n",
        "    labels should be the corresponding list of labels, where each label\n",
        "    is 1 if Revenue is true, and 0 otherwise.\n",
        "    \"\"\"\n",
        "    months = {\n",
        "        \"Jan\": 0, \"Feb\": 1, \"Mar\": 2, \"Apr\": 3, \"May\": 4, \"June\": 5,\n",
        "        \"Jul\": 6, \"Aug\": 7, \"Sep\": 8, \"Oct\": 9, \"Nov\": 10, \"Dec\": 11\n",
        "    }\n",
        "\n",
        "    evidence = []\n",
        "    labels = []\n",
        "\n",
        "    with open(filename) as file:\n",
        "        reader = csv.DictReader(file)\n",
        "\n",
        "        for row in reader:\n",
        "            month = months[row[\"Month\"]] # Month, an index from 0 (January) to 11 (December)\n",
        "            visitor_type = 1 if row[\"VisitorType\"] == \"Returning_Visitor\" else 0 # VisitorType, an integer 0 (not returning) or 1 (returning)\n",
        "            weekend = 1 if row[\"Weekend\"] == \"TRUE\" else 0 # Weekend, an integer 0 (if false) or 1 (if true)\n",
        "            revenue = 1 if row[\"Revenue\"] == \"TRUE\" else 0 # 1 if Revenue is true, and 0 otherwise\n",
        "\n",
        "            evidence.append([\n",
        "                int(row[\"Administrative\"]),\n",
        "                float(row[\"Administrative_Duration\"]),\n",
        "                int(row[\"Informational\"]),\n",
        "                float(row[\"Informational_Duration\"]),\n",
        "                int(row[\"ProductRelated\"]),\n",
        "                float(row[\"ProductRelated_Duration\"]),\n",
        "                float(row[\"BounceRates\"]),\n",
        "                float(row[\"ExitRates\"]),\n",
        "                float(row[\"PageValues\"]),\n",
        "                float(row[\"SpecialDay\"]),\n",
        "                month,\n",
        "                int(row[\"OperatingSystems\"]),\n",
        "                int(row[\"Browser\"]),\n",
        "                int(row[\"Region\"]),\n",
        "                int(row[\"TrafficType\"]),\n",
        "                visitor_type,\n",
        "                weekend\n",
        "            ])\n",
        "\n",
        "            labels.append(revenue)\n",
        "\n",
        "    return (evidence, labels)"
      ],
      "metadata": {
        "id": "MiMqnrM5xu1v"
      },
      "execution_count": 12,
      "outputs": []
    },
    {
      "cell_type": "code",
      "source": [
        "def train_model(evidence, labels):\n",
        "    \"\"\"\n",
        "    Given a list of evidence lists and a list of labels, return a\n",
        "    fitted k-nearest neighbor model (k=1) trained on the data.\n",
        "    \"\"\"\n",
        "    model = KNeighborsClassifier(n_neighbors=1)\n",
        "    model.fit(evidence, labels)\n",
        "    return model"
      ],
      "metadata": {
        "id": "U-f6_BJ0xu4c"
      },
      "execution_count": 13,
      "outputs": []
    },
    {
      "cell_type": "code",
      "source": [
        "def evaluate(labels, predictions):\n",
        "    \"\"\"\n",
        "    Given a list of actual labels and a list of predicted labels,\n",
        "    return a tuple (sensitivity, specificity).\n",
        "\n",
        "    Assume each label is either a 1 (positive) or 0 (negative).\n",
        "\n",
        "    `sensitivity` should be a floating-point value from 0 to 1\n",
        "    representing the \"true positive rate\": the proportion of\n",
        "    actual positive labels that were accurately identified.\n",
        "\n",
        "    `specificity` should be a floating-point value from 0 to 1\n",
        "    representing the \"true negative rate\": the proportion of\n",
        "    actual negative labels that were accurately identified.\n",
        "    \"\"\"\n",
        "    true_positive = sum(1 for actual, predicted in zip(labels, predictions) if actual == 1 and predicted == 1)\n",
        "    true_negative = sum(1 for actual, predicted in zip(labels, predictions) if actual == 0 and predicted == 0)\n",
        "    total_positive = sum(1 for label in labels if label == 1)\n",
        "    total_negative = sum(1 for label in labels if label == 0)\n",
        "\n",
        "    sensitivity = true_positive / total_positive if total_positive else 0\n",
        "    specificity = true_negative / total_negative if total_negative else 0\n",
        "\n",
        "    return (sensitivity, specificity)"
      ],
      "metadata": {
        "id": "39RpKH71xu6s"
      },
      "execution_count": 14,
      "outputs": []
    },
    {
      "cell_type": "code",
      "source": [
        "if __name__ == \"__main__\":\n",
        "    main()"
      ],
      "metadata": {
        "colab": {
          "base_uri": "https://localhost:8080/"
        },
        "id": "W974HxtVyEWr",
        "outputId": "45f40ee3-86ac-4278-a8fd-1f1abcb276ec"
      },
      "execution_count": 20,
      "outputs": [
        {
          "output_type": "stream",
          "name": "stdout",
          "text": [
            "Correct: 4125\n",
            "Incorrect: 807\n",
            "True Positive Rate: 39.33%\n",
            "True Negative Rate: 91.58%\n"
          ]
        }
      ]
    }
  ]
}